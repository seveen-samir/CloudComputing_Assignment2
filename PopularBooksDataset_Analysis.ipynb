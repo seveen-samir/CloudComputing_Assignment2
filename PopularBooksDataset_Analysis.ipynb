{
 "cells": [
  {
   "cell_type": "code",
   "execution_count": 3,
   "id": "1ce2332b-284a-4e3f-9f54-38a6b3751d99",
   "metadata": {},
   "outputs": [
    {
     "name": "stdout",
     "output_type": "stream",
     "text": [
      "Collecting pandas\n",
      "  Downloading pandas-2.2.2-cp311-cp311-manylinux_2_17_x86_64.manylinux2014_x86_64.whl.metadata (19 kB)\n",
      "Collecting numpy>=1.23.2 (from pandas)\n",
      "  Downloading numpy-1.26.4-cp311-cp311-manylinux_2_17_x86_64.manylinux2014_x86_64.whl.metadata (61 kB)\n",
      "\u001b[2K     \u001b[90m━━━━━━━━━━━━━━━━━━━━━━━━━━━━━━━━━━━━━━━\u001b[0m \u001b[32m61.0/61.0 kB\u001b[0m \u001b[31m579.2 kB/s\u001b[0m eta \u001b[36m0:00:00\u001b[0ma \u001b[36m0:00:01\u001b[0m\n",
      "\u001b[?25hRequirement already satisfied: python-dateutil>=2.8.2 in /opt/conda/lib/python3.11/site-packages (from pandas) (2.8.2)\n",
      "Requirement already satisfied: pytz>=2020.1 in /opt/conda/lib/python3.11/site-packages (from pandas) (2023.3.post1)\n",
      "Collecting tzdata>=2022.7 (from pandas)\n",
      "  Downloading tzdata-2024.1-py2.py3-none-any.whl.metadata (1.4 kB)\n",
      "Requirement already satisfied: six>=1.5 in /opt/conda/lib/python3.11/site-packages (from python-dateutil>=2.8.2->pandas) (1.16.0)\n",
      "Downloading pandas-2.2.2-cp311-cp311-manylinux_2_17_x86_64.manylinux2014_x86_64.whl (13.0 MB)\n",
      "\u001b[2K   \u001b[90m━━━━━━━━━━━━━━━━━━━━━━━━━━━━━━━━━━━━━━━━\u001b[0m \u001b[32m13.0/13.0 MB\u001b[0m \u001b[31m3.0 MB/s\u001b[0m eta \u001b[36m0:00:00\u001b[0m00:01\u001b[0m00:01\u001b[0m\n",
      "\u001b[?25hDownloading numpy-1.26.4-cp311-cp311-manylinux_2_17_x86_64.manylinux2014_x86_64.whl (18.3 MB)\n",
      "\u001b[2K   \u001b[90m━━━━━━━━━━━━━━━━━━━━━━━━━━━━━━━━━━━━━━━━\u001b[0m \u001b[32m18.3/18.3 MB\u001b[0m \u001b[31m1.8 MB/s\u001b[0m eta \u001b[36m0:00:00\u001b[0m00:01\u001b[0m00:01\u001b[0m\n",
      "\u001b[?25hDownloading tzdata-2024.1-py2.py3-none-any.whl (345 kB)\n",
      "\u001b[2K   \u001b[90m━━━━━━━━━━━━━━━━━━━━━━━━━━━━━━━━━━━━━━━━\u001b[0m \u001b[32m345.4/345.4 kB\u001b[0m \u001b[31m1.6 MB/s\u001b[0m eta \u001b[36m0:00:00\u001b[0m00:01\u001b[0m00:01\u001b[0m\n",
      "\u001b[?25hInstalling collected packages: tzdata, numpy, pandas\n",
      "Successfully installed numpy-1.26.4 pandas-2.2.2 tzdata-2024.1\n"
     ]
    }
   ],
   "source": [
    "!pip install pandas"
   ]
  },
  {
   "cell_type": "code",
   "execution_count": 8,
   "id": "d3ce7dba-513f-4118-81c1-7e3831544783",
   "metadata": {},
   "outputs": [
    {
     "name": "stdout",
     "output_type": "stream",
     "text": [
      "Preprocessed Harry Potter Books Dataset:\n",
      "    book_id  goodreads_book_id  books_count  \\\n",
      "1         2                  3          491   \n",
      "6        18                  5          376   \n",
      "8        21                  2          307   \n",
      "9        23              15881          398   \n",
      "10       24                  6          332   \n",
      "\n",
      "                                    authors  original_publication_year  \\\n",
      "1               J.K. Rowling, Mary GrandPré                       1997   \n",
      "6   J.K. Rowling, Mary GrandPré, Rufus Beck                       1999   \n",
      "8               J.K. Rowling, Mary GrandPré                       2003   \n",
      "9               J.K. Rowling, Mary GrandPré                       1998   \n",
      "10              J.K. Rowling, Mary GrandPré                       2000   \n",
      "\n",
      "                               original_title  \\\n",
      "1    Harry Potter and the Philosopher's Stone   \n",
      "6    Harry Potter and the Prisoner of Azkaban   \n",
      "8   Harry Potter and the Order of the Phoenix   \n",
      "9     Harry Potter and the Chamber of Secrets   \n",
      "10        Harry Potter and the Goblet of Fire   \n",
      "\n",
      "                                                title  average_rating  \\\n",
      "1   Harry Potter and the Sorcerer's Stone (Harry P...            4.44   \n",
      "6   Harry Potter and the Prisoner of Azkaban (Harr...            4.53   \n",
      "8   Harry Potter and the Order of the Phoenix (Har...            4.46   \n",
      "9   Harry Potter and the Chamber of Secrets (Harry...            4.37   \n",
      "10  Harry Potter and the Goblet of Fire (Harry Pot...            4.53   \n",
      "\n",
      "    ratings_count  work_ratings_count  work_text_reviews_count  ratings_1  \\\n",
      "1         4602479             4800065                    75867      75504   \n",
      "6         1832823             1969375                    36099       6716   \n",
      "8         1735368             1840548                    28685       9528   \n",
      "9         1779331             1906199                    34172       8253   \n",
      "10        1753043             1868642                    31084       6676   \n",
      "\n",
      "    ratings_2  ratings_3  ratings_4  ratings_5  \n",
      "1      101676     455024    1156318    3011543  \n",
      "6       20413     166129     509447    1266670  \n",
      "8       31577     180210     494427    1124806  \n",
      "9       42251     242345     548266    1065084  \n",
      "10      20210     151785     494926    1195045  \n",
      "Most selling Harry Potter books:\n",
      "                                                title  books_count\n",
      "1   Harry Potter and the Sorcerer's Stone (Harry P...          491\n",
      "9   Harry Potter and the Chamber of Secrets (Harry...          398\n",
      "6   Harry Potter and the Prisoner of Azkaban (Harr...          376\n",
      "10  Harry Potter and the Goblet of Fire (Harry Pot...          332\n",
      "8   Harry Potter and the Order of the Phoenix (Har...          307\n",
      "\n",
      "Average rating of Harry Potter books: 4.4910000000000005\n"
     ]
    }
   ],
   "source": [
    "import pandas as pd\n",
    "\n",
    "# Load the dataset\n",
    "books_df = pd.read_csv(\"popular_books_dataset.csv\")  \n",
    "\n",
    "# Filter the dataset to include only Harry Potter books\n",
    "harry_potter_books = books_df[books_df['title'].str.contains('Harry Potter', case=False)]\n",
    "\n",
    "# Drop irrelevant columns\n",
    "columns_to_drop = ['best_book_id', 'work_id', 'isbn', 'isbn13', 'language_code', 'image_url', 'small_image_url']\n",
    "harry_potter_books = harry_potter_books.drop(columns=columns_to_drop)\n",
    "\n",
    "# Handle missing values\n",
    "harry_potter_books.dropna(inplace=True)\n",
    "\n",
    "# Convert data type\n",
    "harry_potter_books['original_publication_year'] = harry_potter_books['original_publication_year'].astype(int)\n",
    "\n",
    "# Find the most selling Harry Potter books\n",
    "most_selling_books = harry_potter_books.sort_values(by='books_count', ascending=False).head(5)  # Adjust the number of books as needed\n",
    "\n",
    "# Calculate the average rating of Harry Potter books\n",
    "average_rating = harry_potter_books['average_rating'].mean()\n",
    "\n",
    "# Display the results\n",
    "print(\"Preprocessed Harry Potter Books Dataset:\")\n",
    "print(harry_potter_books.head())\n",
    "print(\"Most selling Harry Potter books:\")\n",
    "print(most_selling_books[['title', 'books_count']])\n",
    "print(\"\\nAverage rating of Harry Potter books:\", average_rating)"
   ]
  }
 ],
 "metadata": {
  "kernelspec": {
   "display_name": "Python 3 (ipykernel)",
   "language": "python",
   "name": "python3"
  },
  "language_info": {
   "codemirror_mode": {
    "name": "ipython",
    "version": 3
   },
   "file_extension": ".py",
   "mimetype": "text/x-python",
   "name": "python",
   "nbconvert_exporter": "python",
   "pygments_lexer": "ipython3",
   "version": "3.11.6"
  }
 },
 "nbformat": 4,
 "nbformat_minor": 5
}
